{
 "cells": [
  {
   "cell_type": "markdown",
   "id": "6e285df3",
   "metadata": {},
   "source": [
    "# Imports"
   ]
  },
  {
   "cell_type": "code",
   "execution_count": 85,
   "id": "914075a4",
   "metadata": {},
   "outputs": [],
   "source": [
    "import pandas as pd\n",
    "\n",
    "from sklearn.linear_model import LinearRegression\n",
    "from sklearn.model_selection import train_test_split\n",
    "\n",
    "import matplotlib.pyplot as plt "
   ]
  },
  {
   "cell_type": "markdown",
   "id": "3d6c1ea8",
   "metadata": {},
   "source": [
    "# Read data"
   ]
  },
  {
   "cell_type": "code",
   "execution_count": 86,
   "id": "1adfa1ae",
   "metadata": {},
   "outputs": [],
   "source": [
    "df = pd.read_csv('../data/area_price.csv')"
   ]
  },
  {
   "cell_type": "code",
   "execution_count": 87,
   "id": "23a84eac",
   "metadata": {},
   "outputs": [
    {
     "data": {
      "text/html": [
       "<div>\n",
       "<style scoped>\n",
       "    .dataframe tbody tr th:only-of-type {\n",
       "        vertical-align: middle;\n",
       "    }\n",
       "\n",
       "    .dataframe tbody tr th {\n",
       "        vertical-align: top;\n",
       "    }\n",
       "\n",
       "    .dataframe thead th {\n",
       "        text-align: right;\n",
       "    }\n",
       "</style>\n",
       "<table border=\"1\" class=\"dataframe\">\n",
       "  <thead>\n",
       "    <tr style=\"text-align: right;\">\n",
       "      <th></th>\n",
       "      <th>sqft_living</th>\n",
       "      <th>price</th>\n",
       "    </tr>\n",
       "  </thead>\n",
       "  <tbody>\n",
       "    <tr>\n",
       "      <th>0</th>\n",
       "      <td>1340</td>\n",
       "      <td>313000.0</td>\n",
       "    </tr>\n",
       "    <tr>\n",
       "      <th>1</th>\n",
       "      <td>3650</td>\n",
       "      <td>2384000.0</td>\n",
       "    </tr>\n",
       "    <tr>\n",
       "      <th>2</th>\n",
       "      <td>1930</td>\n",
       "      <td>342000.0</td>\n",
       "    </tr>\n",
       "    <tr>\n",
       "      <th>3</th>\n",
       "      <td>2000</td>\n",
       "      <td>420000.0</td>\n",
       "    </tr>\n",
       "    <tr>\n",
       "      <th>4</th>\n",
       "      <td>1940</td>\n",
       "      <td>550000.0</td>\n",
       "    </tr>\n",
       "  </tbody>\n",
       "</table>\n",
       "</div>"
      ],
      "text/plain": [
       "   sqft_living      price\n",
       "0         1340   313000.0\n",
       "1         3650  2384000.0\n",
       "2         1930   342000.0\n",
       "3         2000   420000.0\n",
       "4         1940   550000.0"
      ]
     },
     "execution_count": 87,
     "metadata": {},
     "output_type": "execute_result"
    }
   ],
   "source": [
    "df.head()"
   ]
  },
  {
   "cell_type": "markdown",
   "id": "745e5c46",
   "metadata": {},
   "source": [
    "# Data analysis\n",
    "\n",
    "From the histogram and the scatterplot, we can see that there are some outliers."
   ]
  },
  {
   "cell_type": "code",
   "execution_count": 88,
   "id": "f357e22a",
   "metadata": {},
   "outputs": [
    {
     "data": {
      "text/plain": [
       "<AxesSubplot:>"
      ]
     },
     "execution_count": 88,
     "metadata": {},
     "output_type": "execute_result"
    },
    {
     "data": {
      "image/png": "[encoded data removed]",
      "text/plain": [
       "<Figure size 432x288 with 1 Axes>"
      ]
     },
     "metadata": {
      "needs_background": "light"
     },
     "output_type": "display_data"
    }
   ],
   "source": [
    "df['sqft_living'].hist(bins=20)"
   ]
  },
  {
   "cell_type": "code",
   "execution_count": 89,
   "id": "11740ca7",
   "metadata": {},
   "outputs": [
    {
     "data": {
      "text/plain": [
       "<AxesSubplot:>"
      ]
     },
     "execution_count": 89,
     "metadata": {},
     "output_type": "execute_result"
    },
    {
     "data": {
      "image/png": "[encoded data removed]",
      "text/plain": [
       "<Figure size 432x288 with 1 Axes>"
      ]
     },
     "metadata": {
      "needs_background": "light"
     },
     "output_type": "display_data"
    }
   ],
   "source": [
    "df['price'].hist(bins=20)"
   ]
  },
  {
   "cell_type": "code",
   "execution_count": 90,
   "id": "d7eca283",
   "metadata": {},
   "outputs": [
    {
     "data": {
      "text/plain": [
       "(4600, 2)"
      ]
     },
     "execution_count": 90,
     "metadata": {},
     "output_type": "execute_result"
    }
   ],
   "source": [
    "df.shape"
   ]
  },
  {
   "cell_type": "code",
   "execution_count": 91,
   "id": "6863711c",
   "metadata": {},
   "outputs": [
    {
     "data": {
      "text/plain": [
       "<matplotlib.collections.PathCollection at 0x7f39c06432e0>"
      ]
     },
     "execution_count": 91,
     "metadata": {},
     "output_type": "execute_result"
    },
    {
     "data": {
      "image/png": "[encoded data removed]",
      "text/plain": [
       "<Figure size 432x288 with 1 Axes>"
      ]
     },
     "metadata": {
      "needs_background": "light"
     },
     "output_type": "display_data"
    }
   ],
   "source": [
    "plt.scatter(df['sqft_living'].values, df['price'].values)"
   ]
  },
  {
   "cell_type": "markdown",
   "id": "9347d5e2",
   "metadata": {},
   "source": [
    "## Remove outliers"
   ]
  },
  {
   "cell_type": "code",
   "execution_count": 92,
   "id": "f7a9794c",
   "metadata": {},
   "outputs": [],
   "source": [
    "df = df[df['price'] < 10000000]"
   ]
  },
  {
   "cell_type": "markdown",
   "id": "ee6fca80",
   "metadata": {},
   "source": [
    "# Create train and test set"
   ]
  },
  {
   "cell_type": "code",
   "execution_count": 93,
   "id": "1bca0e7c",
   "metadata": {},
   "outputs": [],
   "source": [
    "X = df['sqft_living']\n",
    "y = df['price']"
   ]
  },
  {
   "cell_type": "code",
   "execution_count": 94,
   "id": "1967f0c1",
   "metadata": {},
   "outputs": [],
   "source": [
    "X_train, X_test, y_train, y_test = train_test_split(X.values, y.values, test_size=0.3, random_state=42)"
   ]
  },
  {
   "cell_type": "code",
   "execution_count": 103,
   "id": "31d6032c",
   "metadata": {},
   "outputs": [
    {
     "data": {
      "text/plain": [
       "<matplotlib.collections.PathCollection at 0x7f39bcc00370>"
      ]
     },
     "execution_count": 103,
     "metadata": {},
     "output_type": "execute_result"
    },
    {
     "data": {
      "image/png": "[encoded data removed]",
      "text/plain": [
       "<Figure size 432x288 with 1 Axes>"
      ]
     },
     "metadata": {
      "needs_background": "light"
     },
     "output_type": "display_data"
    }
   ],
   "source": [
    "plt.scatter(X_train, y_train)"
   ]
  },
  {
   "cell_type": "code",
   "execution_count": 104,
   "id": "21e5e4df",
   "metadata": {},
   "outputs": [
    {
     "data": {
      "text/plain": [
       "<matplotlib.collections.PathCollection at 0x7f39bcc5dd30>"
      ]
     },
     "execution_count": 104,
     "metadata": {},
     "output_type": "execute_result"
    },
    {
     "data": {
      "image/png": "[encoded data removed]",
      "text/plain": [
       "<Figure size 432x288 with 1 Axes>"
      ]
     },
     "metadata": {
      "needs_background": "light"
     },
     "output_type": "display_data"
    }
   ],
   "source": [
    "plt.scatter(X_test, y_test)"
   ]
  },
  {
   "cell_type": "markdown",
   "id": "5f4dd36b",
   "metadata": {},
   "source": [
    "# Train a linear regression model"
   ]
  },
  {
   "cell_type": "code",
   "execution_count": 95,
   "id": "fdc6ed0d",
   "metadata": {},
   "outputs": [],
   "source": [
    "reg = LinearRegression()"
   ]
  },
  {
   "cell_type": "code",
   "execution_count": 96,
   "id": "21e2ac45",
   "metadata": {
    "scrolled": true
   },
   "outputs": [
    {
     "data": {
      "text/plain": [
       "LinearRegression()"
      ]
     },
     "execution_count": 96,
     "metadata": {},
     "output_type": "execute_result"
    }
   ],
   "source": [
    "reg.fit(X_train.reshape(-1, 1), y_train)"
   ]
  },
  {
   "cell_type": "markdown",
   "id": "1c308d84",
   "metadata": {},
   "source": [
    "## Analyse model performance"
   ]
  },
  {
   "cell_type": "markdown",
   "id": "e825176b",
   "metadata": {},
   "source": [
    "### Scores"
   ]
  },
  {
   "cell_type": "code",
   "execution_count": 97,
   "id": "4104e9e6",
   "metadata": {},
   "outputs": [
    {
     "data": {
      "text/plain": [
       "0.44102699967714465"
      ]
     },
     "execution_count": 97,
     "metadata": {},
     "output_type": "execute_result"
    }
   ],
   "source": [
    "reg.score(X_train.reshape(-1, 1), y_train)"
   ]
  },
  {
   "cell_type": "code",
   "execution_count": 98,
   "id": "22ff5b24",
   "metadata": {},
   "outputs": [
    {
     "data": {
      "text/plain": [
       "0.4667145034686295"
      ]
     },
     "execution_count": 98,
     "metadata": {},
     "output_type": "execute_result"
    }
   ],
   "source": [
    "reg.score(X_test.reshape(-1, 1), y_test)"
   ]
  },
  {
   "cell_type": "markdown",
   "id": "77d208b2",
   "metadata": {},
   "source": [
    "### The linear regression line"
   ]
  },
  {
   "cell_type": "code",
   "execution_count": 105,
   "id": "065ebd31",
   "metadata": {},
   "outputs": [
    {
     "data": {
      "text/plain": [
       "[<matplotlib.lines.Line2D at 0x7f39bc687970>]"
      ]
     },
     "execution_count": 105,
     "metadata": {},
     "output_type": "execute_result"
    },
    {
     "data": {
      "image/png": "[encoded data removed]",
      "text/plain": [
       "<Figure size 432x288 with 1 Axes>"
      ]
     },
     "metadata": {
      "needs_background": "light"
     },
     "output_type": "display_data"
    }
   ],
   "source": [
    "plt.scatter(X_train, y_train, c='g')\n",
    "plt.plot(X_train, reg.predict(X_train.reshape(-1, 1)))"
   ]
  },
  {
   "cell_type": "code",
   "execution_count": 106,
   "id": "50a12133",
   "metadata": {},
   "outputs": [
    {
     "data": {
      "text/plain": [
       "[<matplotlib.lines.Line2D at 0x7f39bc4e29d0>]"
      ]
     },
     "execution_count": 106,
     "metadata": {},
     "output_type": "execute_result"
    },
    {
     "data": {
      "image/png": "[encoded data removed]",
      "text/plain": [
       "<Figure size 432x288 with 1 Axes>"
      ]
     },
     "metadata": {
      "needs_background": "light"
     },
     "output_type": "display_data"
    }
   ],
   "source": [
    "plt.scatter(X_test, y_test, c='g')\n",
    "plt.plot(X_test, reg.predict(X_test.reshape(-1, 1)))"
   ]
  },
  {
   "cell_type": "markdown",
   "id": "9e1dffa9",
   "metadata": {},
   "source": [
    "# Read data with more information"
   ]
  },
  {
   "cell_type": "code",
   "execution_count": 107,
   "id": "0ea66f35",
   "metadata": {},
   "outputs": [],
   "source": [
    "df = pd.read_csv('../data/house_price.csv')"
   ]
  },
  {
   "cell_type": "code",
   "execution_count": 108,
   "id": "214cc7fe",
   "metadata": {},
   "outputs": [
    {
     "data": {
      "text/html": [
       "<div>\n",
       "<style scoped>\n",
       "    .dataframe tbody tr th:only-of-type {\n",
       "        vertical-align: middle;\n",
       "    }\n",
       "\n",
       "    .dataframe tbody tr th {\n",
       "        vertical-align: top;\n",
       "    }\n",
       "\n",
       "    .dataframe thead th {\n",
       "        text-align: right;\n",
       "    }\n",
       "</style>\n",
       "<table border=\"1\" class=\"dataframe\">\n",
       "  <thead>\n",
       "    <tr style=\"text-align: right;\">\n",
       "      <th></th>\n",
       "      <th>Unnamed: 0</th>\n",
       "      <th>price</th>\n",
       "      <th>bedrooms</th>\n",
       "      <th>bathrooms</th>\n",
       "      <th>sqft_living</th>\n",
       "      <th>sqft_lot</th>\n",
       "      <th>floors</th>\n",
       "      <th>waterfront</th>\n",
       "      <th>view</th>\n",
       "      <th>condition</th>\n",
       "      <th>sqft_above</th>\n",
       "      <th>sqft_basement</th>\n",
       "      <th>yr_built</th>\n",
       "      <th>yr_renovated</th>\n",
       "      <th>city</th>\n",
       "      <th>statezip</th>\n",
       "      <th>country</th>\n",
       "    </tr>\n",
       "  </thead>\n",
       "  <tbody>\n",
       "    <tr>\n",
       "      <th>0</th>\n",
       "      <td>0</td>\n",
       "      <td>313000.0</td>\n",
       "      <td>3.0</td>\n",
       "      <td>1.50</td>\n",
       "      <td>1340</td>\n",
       "      <td>7912</td>\n",
       "      <td>1.5</td>\n",
       "      <td>0</td>\n",
       "      <td>0</td>\n",
       "      <td>3</td>\n",
       "      <td>1340</td>\n",
       "      <td>0</td>\n",
       "      <td>1955</td>\n",
       "      <td>2005</td>\n",
       "      <td>Shoreline</td>\n",
       "      <td>WA 98133</td>\n",
       "      <td>USA</td>\n",
       "    </tr>\n",
       "    <tr>\n",
       "      <th>1</th>\n",
       "      <td>1</td>\n",
       "      <td>2384000.0</td>\n",
       "      <td>5.0</td>\n",
       "      <td>2.50</td>\n",
       "      <td>3650</td>\n",
       "      <td>9050</td>\n",
       "      <td>2.0</td>\n",
       "      <td>0</td>\n",
       "      <td>4</td>\n",
       "      <td>5</td>\n",
       "      <td>3370</td>\n",
       "      <td>280</td>\n",
       "      <td>1921</td>\n",
       "      <td>0</td>\n",
       "      <td>Seattle</td>\n",
       "      <td>WA 98119</td>\n",
       "      <td>USA</td>\n",
       "    </tr>\n",
       "    <tr>\n",
       "      <th>2</th>\n",
       "      <td>2</td>\n",
       "      <td>342000.0</td>\n",
       "      <td>3.0</td>\n",
       "      <td>2.00</td>\n",
       "      <td>1930</td>\n",
       "      <td>11947</td>\n",
       "      <td>1.0</td>\n",
       "      <td>0</td>\n",
       "      <td>0</td>\n",
       "      <td>4</td>\n",
       "      <td>1930</td>\n",
       "      <td>0</td>\n",
       "      <td>1966</td>\n",
       "      <td>0</td>\n",
       "      <td>Kent</td>\n",
       "      <td>WA 98042</td>\n",
       "      <td>USA</td>\n",
       "    </tr>\n",
       "    <tr>\n",
       "      <th>3</th>\n",
       "      <td>3</td>\n",
       "      <td>420000.0</td>\n",
       "      <td>3.0</td>\n",
       "      <td>2.25</td>\n",
       "      <td>2000</td>\n",
       "      <td>8030</td>\n",
       "      <td>1.0</td>\n",
       "      <td>0</td>\n",
       "      <td>0</td>\n",
       "      <td>4</td>\n",
       "      <td>1000</td>\n",
       "      <td>1000</td>\n",
       "      <td>1963</td>\n",
       "      <td>0</td>\n",
       "      <td>Bellevue</td>\n",
       "      <td>WA 98008</td>\n",
       "      <td>USA</td>\n",
       "    </tr>\n",
       "    <tr>\n",
       "      <th>4</th>\n",
       "      <td>4</td>\n",
       "      <td>550000.0</td>\n",
       "      <td>4.0</td>\n",
       "      <td>2.50</td>\n",
       "      <td>1940</td>\n",
       "      <td>10500</td>\n",
       "      <td>1.0</td>\n",
       "      <td>0</td>\n",
       "      <td>0</td>\n",
       "      <td>4</td>\n",
       "      <td>1140</td>\n",
       "      <td>800</td>\n",
       "      <td>1976</td>\n",
       "      <td>1992</td>\n",
       "      <td>Redmond</td>\n",
       "      <td>WA 98052</td>\n",
       "      <td>USA</td>\n",
       "    </tr>\n",
       "  </tbody>\n",
       "</table>\n",
       "</div>"
      ],
      "text/plain": [
       "   Unnamed: 0      price  bedrooms  bathrooms  sqft_living  sqft_lot  floors  \\\n",
       "0           0   313000.0       3.0       1.50         1340      7912     1.5   \n",
       "1           1  2384000.0       5.0       2.50         3650      9050     2.0   \n",
       "2           2   342000.0       3.0       2.00         1930     11947     1.0   \n",
       "3           3   420000.0       3.0       2.25         2000      8030     1.0   \n",
       "4           4   550000.0       4.0       2.50         1940     10500     1.0   \n",
       "\n",
       "   waterfront  view  condition  sqft_above  sqft_basement  yr_built  \\\n",
       "0           0     0          3        1340              0      1955   \n",
       "1           0     4          5        3370            280      1921   \n",
       "2           0     0          4        1930              0      1966   \n",
       "3           0     0          4        1000           1000      1963   \n",
       "4           0     0          4        1140            800      1976   \n",
       "\n",
       "   yr_renovated       city  statezip country  \n",
       "0          2005  Shoreline  WA 98133     USA  \n",
       "1             0    Seattle  WA 98119     USA  \n",
       "2             0       Kent  WA 98042     USA  \n",
       "3             0   Bellevue  WA 98008     USA  \n",
       "4          1992    Redmond  WA 98052     USA  "
      ]
     },
     "execution_count": 108,
     "metadata": {},
     "output_type": "execute_result"
    }
   ],
   "source": [
    "df.head()"
   ]
  },
  {
   "cell_type": "markdown",
   "id": "d5a8b29a",
   "metadata": {},
   "source": [
    "## Drop unwanted columns"
   ]
  },
  {
   "cell_type": "code",
   "execution_count": 109,
   "id": "c94ec1d4",
   "metadata": {},
   "outputs": [],
   "source": [
    "X = df.drop(columns=['Unnamed: 0', 'price', 'city', 'statezip', 'country'])"
   ]
  },
  {
   "cell_type": "code",
   "execution_count": 110,
   "id": "a7c1d7cc",
   "metadata": {},
   "outputs": [
    {
     "data": {
      "text/html": [
       "<div>\n",
       "<style scoped>\n",
       "    .dataframe tbody tr th:only-of-type {\n",
       "        vertical-align: middle;\n",
       "    }\n",
       "\n",
       "    .dataframe tbody tr th {\n",
       "        vertical-align: top;\n",
       "    }\n",
       "\n",
       "    .dataframe thead th {\n",
       "        text-align: right;\n",
       "    }\n",
       "</style>\n",
       "<table border=\"1\" class=\"dataframe\">\n",
       "  <thead>\n",
       "    <tr style=\"text-align: right;\">\n",
       "      <th></th>\n",
       "      <th>bedrooms</th>\n",
       "      <th>bathrooms</th>\n",
       "      <th>sqft_living</th>\n",
       "      <th>sqft_lot</th>\n",
       "      <th>floors</th>\n",
       "      <th>waterfront</th>\n",
       "      <th>view</th>\n",
       "      <th>condition</th>\n",
       "      <th>sqft_above</th>\n",
       "      <th>sqft_basement</th>\n",
       "      <th>yr_built</th>\n",
       "      <th>yr_renovated</th>\n",
       "    </tr>\n",
       "  </thead>\n",
       "  <tbody>\n",
       "    <tr>\n",
       "      <th>0</th>\n",
       "      <td>3.0</td>\n",
       "      <td>1.50</td>\n",
       "      <td>1340</td>\n",
       "      <td>7912</td>\n",
       "      <td>1.5</td>\n",
       "      <td>0</td>\n",
       "      <td>0</td>\n",
       "      <td>3</td>\n",
       "      <td>1340</td>\n",
       "      <td>0</td>\n",
       "      <td>1955</td>\n",
       "      <td>2005</td>\n",
       "    </tr>\n",
       "    <tr>\n",
       "      <th>1</th>\n",
       "      <td>5.0</td>\n",
       "      <td>2.50</td>\n",
       "      <td>3650</td>\n",
       "      <td>9050</td>\n",
       "      <td>2.0</td>\n",
       "      <td>0</td>\n",
       "      <td>4</td>\n",
       "      <td>5</td>\n",
       "      <td>3370</td>\n",
       "      <td>280</td>\n",
       "      <td>1921</td>\n",
       "      <td>0</td>\n",
       "    </tr>\n",
       "    <tr>\n",
       "      <th>2</th>\n",
       "      <td>3.0</td>\n",
       "      <td>2.00</td>\n",
       "      <td>1930</td>\n",
       "      <td>11947</td>\n",
       "      <td>1.0</td>\n",
       "      <td>0</td>\n",
       "      <td>0</td>\n",
       "      <td>4</td>\n",
       "      <td>1930</td>\n",
       "      <td>0</td>\n",
       "      <td>1966</td>\n",
       "      <td>0</td>\n",
       "    </tr>\n",
       "    <tr>\n",
       "      <th>3</th>\n",
       "      <td>3.0</td>\n",
       "      <td>2.25</td>\n",
       "      <td>2000</td>\n",
       "      <td>8030</td>\n",
       "      <td>1.0</td>\n",
       "      <td>0</td>\n",
       "      <td>0</td>\n",
       "      <td>4</td>\n",
       "      <td>1000</td>\n",
       "      <td>1000</td>\n",
       "      <td>1963</td>\n",
       "      <td>0</td>\n",
       "    </tr>\n",
       "    <tr>\n",
       "      <th>4</th>\n",
       "      <td>4.0</td>\n",
       "      <td>2.50</td>\n",
       "      <td>1940</td>\n",
       "      <td>10500</td>\n",
       "      <td>1.0</td>\n",
       "      <td>0</td>\n",
       "      <td>0</td>\n",
       "      <td>4</td>\n",
       "      <td>1140</td>\n",
       "      <td>800</td>\n",
       "      <td>1976</td>\n",
       "      <td>1992</td>\n",
       "    </tr>\n",
       "  </tbody>\n",
       "</table>\n",
       "</div>"
      ],
      "text/plain": [
       "   bedrooms  bathrooms  sqft_living  sqft_lot  floors  waterfront  view  \\\n",
       "0       3.0       1.50         1340      7912     1.5           0     0   \n",
       "1       5.0       2.50         3650      9050     2.0           0     4   \n",
       "2       3.0       2.00         1930     11947     1.0           0     0   \n",
       "3       3.0       2.25         2000      8030     1.0           0     0   \n",
       "4       4.0       2.50         1940     10500     1.0           0     0   \n",
       "\n",
       "   condition  sqft_above  sqft_basement  yr_built  yr_renovated  \n",
       "0          3        1340              0      1955          2005  \n",
       "1          5        3370            280      1921             0  \n",
       "2          4        1930              0      1966             0  \n",
       "3          4        1000           1000      1963             0  \n",
       "4          4        1140            800      1976          1992  "
      ]
     },
     "execution_count": 110,
     "metadata": {},
     "output_type": "execute_result"
    }
   ],
   "source": [
    "X.head()"
   ]
  },
  {
   "cell_type": "code",
   "execution_count": 111,
   "id": "ab9fde99",
   "metadata": {},
   "outputs": [],
   "source": [
    "y = df['price']"
   ]
  },
  {
   "cell_type": "code",
   "execution_count": 112,
   "id": "bbcc8586",
   "metadata": {},
   "outputs": [
    {
     "data": {
      "text/plain": [
       "0     313000.0\n",
       "1    2384000.0\n",
       "2     342000.0\n",
       "3     420000.0\n",
       "4     550000.0\n",
       "Name: price, dtype: float64"
      ]
     },
     "execution_count": 112,
     "metadata": {},
     "output_type": "execute_result"
    }
   ],
   "source": [
    "y.head()"
   ]
  },
  {
   "cell_type": "markdown",
   "id": "abedee96",
   "metadata": {},
   "source": [
    "# Create train and test set"
   ]
  },
  {
   "cell_type": "code",
   "execution_count": 113,
   "id": "c2ef188a",
   "metadata": {},
   "outputs": [],
   "source": [
    "X_train, X_test, y_train, y_test = train_test_split(X, y, test_size=0.3, random_state=42)"
   ]
  },
  {
   "cell_type": "code",
   "execution_count": 114,
   "id": "ca45f897",
   "metadata": {},
   "outputs": [
    {
     "data": {
      "text/html": [
       "<div>\n",
       "<style scoped>\n",
       "    .dataframe tbody tr th:only-of-type {\n",
       "        vertical-align: middle;\n",
       "    }\n",
       "\n",
       "    .dataframe tbody tr th {\n",
       "        vertical-align: top;\n",
       "    }\n",
       "\n",
       "    .dataframe thead th {\n",
       "        text-align: right;\n",
       "    }\n",
       "</style>\n",
       "<table border=\"1\" class=\"dataframe\">\n",
       "  <thead>\n",
       "    <tr style=\"text-align: right;\">\n",
       "      <th></th>\n",
       "      <th>bedrooms</th>\n",
       "      <th>bathrooms</th>\n",
       "      <th>sqft_living</th>\n",
       "      <th>sqft_lot</th>\n",
       "      <th>floors</th>\n",
       "      <th>waterfront</th>\n",
       "      <th>view</th>\n",
       "      <th>condition</th>\n",
       "      <th>sqft_above</th>\n",
       "      <th>sqft_basement</th>\n",
       "      <th>yr_built</th>\n",
       "      <th>yr_renovated</th>\n",
       "    </tr>\n",
       "  </thead>\n",
       "  <tbody>\n",
       "    <tr>\n",
       "      <th>411</th>\n",
       "      <td>3.0</td>\n",
       "      <td>1.50</td>\n",
       "      <td>1500</td>\n",
       "      <td>6337</td>\n",
       "      <td>1.0</td>\n",
       "      <td>0</td>\n",
       "      <td>0</td>\n",
       "      <td>5</td>\n",
       "      <td>1500</td>\n",
       "      <td>0</td>\n",
       "      <td>1953</td>\n",
       "      <td>0</td>\n",
       "    </tr>\n",
       "    <tr>\n",
       "      <th>2367</th>\n",
       "      <td>4.0</td>\n",
       "      <td>2.25</td>\n",
       "      <td>2460</td>\n",
       "      <td>44431</td>\n",
       "      <td>1.0</td>\n",
       "      <td>0</td>\n",
       "      <td>0</td>\n",
       "      <td>4</td>\n",
       "      <td>2460</td>\n",
       "      <td>0</td>\n",
       "      <td>1957</td>\n",
       "      <td>2001</td>\n",
       "    </tr>\n",
       "    <tr>\n",
       "      <th>2025</th>\n",
       "      <td>4.0</td>\n",
       "      <td>3.25</td>\n",
       "      <td>3450</td>\n",
       "      <td>11240</td>\n",
       "      <td>2.0</td>\n",
       "      <td>0</td>\n",
       "      <td>3</td>\n",
       "      <td>4</td>\n",
       "      <td>2430</td>\n",
       "      <td>1020</td>\n",
       "      <td>1960</td>\n",
       "      <td>2001</td>\n",
       "    </tr>\n",
       "    <tr>\n",
       "      <th>2236</th>\n",
       "      <td>3.0</td>\n",
       "      <td>1.75</td>\n",
       "      <td>1520</td>\n",
       "      <td>8625</td>\n",
       "      <td>1.0</td>\n",
       "      <td>0</td>\n",
       "      <td>0</td>\n",
       "      <td>3</td>\n",
       "      <td>1520</td>\n",
       "      <td>0</td>\n",
       "      <td>1976</td>\n",
       "      <td>0</td>\n",
       "    </tr>\n",
       "    <tr>\n",
       "      <th>2559</th>\n",
       "      <td>4.0</td>\n",
       "      <td>2.75</td>\n",
       "      <td>2500</td>\n",
       "      <td>4950</td>\n",
       "      <td>2.0</td>\n",
       "      <td>0</td>\n",
       "      <td>0</td>\n",
       "      <td>3</td>\n",
       "      <td>2500</td>\n",
       "      <td>0</td>\n",
       "      <td>2010</td>\n",
       "      <td>0</td>\n",
       "    </tr>\n",
       "    <tr>\n",
       "      <th>...</th>\n",
       "      <td>...</td>\n",
       "      <td>...</td>\n",
       "      <td>...</td>\n",
       "      <td>...</td>\n",
       "      <td>...</td>\n",
       "      <td>...</td>\n",
       "      <td>...</td>\n",
       "      <td>...</td>\n",
       "      <td>...</td>\n",
       "      <td>...</td>\n",
       "      <td>...</td>\n",
       "      <td>...</td>\n",
       "    </tr>\n",
       "    <tr>\n",
       "      <th>4426</th>\n",
       "      <td>4.0</td>\n",
       "      <td>3.00</td>\n",
       "      <td>4260</td>\n",
       "      <td>18000</td>\n",
       "      <td>2.0</td>\n",
       "      <td>0</td>\n",
       "      <td>2</td>\n",
       "      <td>3</td>\n",
       "      <td>4260</td>\n",
       "      <td>0</td>\n",
       "      <td>2000</td>\n",
       "      <td>0</td>\n",
       "    </tr>\n",
       "    <tr>\n",
       "      <th>466</th>\n",
       "      <td>4.0</td>\n",
       "      <td>2.00</td>\n",
       "      <td>2520</td>\n",
       "      <td>6000</td>\n",
       "      <td>1.0</td>\n",
       "      <td>0</td>\n",
       "      <td>0</td>\n",
       "      <td>3</td>\n",
       "      <td>1400</td>\n",
       "      <td>1120</td>\n",
       "      <td>1921</td>\n",
       "      <td>2007</td>\n",
       "    </tr>\n",
       "    <tr>\n",
       "      <th>3092</th>\n",
       "      <td>3.0</td>\n",
       "      <td>1.00</td>\n",
       "      <td>1150</td>\n",
       "      <td>8145</td>\n",
       "      <td>1.0</td>\n",
       "      <td>0</td>\n",
       "      <td>0</td>\n",
       "      <td>4</td>\n",
       "      <td>990</td>\n",
       "      <td>160</td>\n",
       "      <td>1932</td>\n",
       "      <td>1958</td>\n",
       "    </tr>\n",
       "    <tr>\n",
       "      <th>3772</th>\n",
       "      <td>2.0</td>\n",
       "      <td>1.00</td>\n",
       "      <td>910</td>\n",
       "      <td>2002</td>\n",
       "      <td>1.5</td>\n",
       "      <td>0</td>\n",
       "      <td>0</td>\n",
       "      <td>3</td>\n",
       "      <td>910</td>\n",
       "      <td>0</td>\n",
       "      <td>1900</td>\n",
       "      <td>2005</td>\n",
       "    </tr>\n",
       "    <tr>\n",
       "      <th>860</th>\n",
       "      <td>2.0</td>\n",
       "      <td>1.00</td>\n",
       "      <td>1490</td>\n",
       "      <td>3825</td>\n",
       "      <td>1.0</td>\n",
       "      <td>0</td>\n",
       "      <td>0</td>\n",
       "      <td>3</td>\n",
       "      <td>860</td>\n",
       "      <td>630</td>\n",
       "      <td>1929</td>\n",
       "      <td>0</td>\n",
       "    </tr>\n",
       "  </tbody>\n",
       "</table>\n",
       "<p>3218 rows × 12 columns</p>\n",
       "</div>"
      ],
      "text/plain": [
       "      bedrooms  bathrooms  sqft_living  sqft_lot  floors  waterfront  view  \\\n",
       "411        3.0       1.50         1500      6337     1.0           0     0   \n",
       "2367       4.0       2.25         2460     44431     1.0           0     0   \n",
       "2025       4.0       3.25         3450     11240     2.0           0     3   \n",
       "2236       3.0       1.75         1520      8625     1.0           0     0   \n",
       "2559       4.0       2.75         2500      4950     2.0           0     0   \n",
       "...        ...        ...          ...       ...     ...         ...   ...   \n",
       "4426       4.0       3.00         4260     18000     2.0           0     2   \n",
       "466        4.0       2.00         2520      6000     1.0           0     0   \n",
       "3092       3.0       1.00         1150      8145     1.0           0     0   \n",
       "3772       2.0       1.00          910      2002     1.5           0     0   \n",
       "860        2.0       1.00         1490      3825     1.0           0     0   \n",
       "\n",
       "      condition  sqft_above  sqft_basement  yr_built  yr_renovated  \n",
       "411           5        1500              0      1953             0  \n",
       "2367          4        2460              0      1957          2001  \n",
       "2025          4        2430           1020      1960          2001  \n",
       "2236          3        1520              0      1976             0  \n",
       "2559          3        2500              0      2010             0  \n",
       "...         ...         ...            ...       ...           ...  \n",
       "4426          3        4260              0      2000             0  \n",
       "466           3        1400           1120      1921          2007  \n",
       "3092          4         990            160      1932          1958  \n",
       "3772          3         910              0      1900          2005  \n",
       "860           3         860            630      1929             0  \n",
       "\n",
       "[3218 rows x 12 columns]"
      ]
     },
     "execution_count": 114,
     "metadata": {},
     "output_type": "execute_result"
    }
   ],
   "source": [
    "X_train"
   ]
  },
  {
   "cell_type": "markdown",
   "id": "746d9850",
   "metadata": {},
   "source": [
    "# Train a linear regression model"
   ]
  },
  {
   "cell_type": "code",
   "execution_count": 115,
   "id": "12ff1e36",
   "metadata": {},
   "outputs": [
    {
     "data": {
      "text/plain": [
       "LinearRegression()"
      ]
     },
     "execution_count": 115,
     "metadata": {},
     "output_type": "execute_result"
    }
   ],
   "source": [
    "reg = LinearRegression()\n",
    "reg.fit(X_train, y_train)"
   ]
  },
  {
   "cell_type": "markdown",
   "id": "d1d04b66",
   "metadata": {},
   "source": [
    "## Score"
   ]
  },
  {
   "cell_type": "code",
   "execution_count": 116,
   "id": "bfd81816",
   "metadata": {},
   "outputs": [
    {
     "data": {
      "text/plain": [
       "0.5326944751378839"
      ]
     },
     "execution_count": 116,
     "metadata": {},
     "output_type": "execute_result"
    }
   ],
   "source": [
    "reg.score(X_train, y_train)"
   ]
  },
  {
   "cell_type": "code",
   "execution_count": 117,
   "id": "290a8d73",
   "metadata": {},
   "outputs": [
    {
     "data": {
      "text/plain": [
       "0.5146497113381427"
      ]
     },
     "execution_count": 117,
     "metadata": {},
     "output_type": "execute_result"
    }
   ],
   "source": [
    "reg.score(X_test, y_test)"
   ]
  },
  {
   "cell_type": "markdown",
   "id": "4a0670e9",
   "metadata": {},
   "source": [
    "## coefficients"
   ]
  },
  {
   "cell_type": "code",
   "execution_count": 118,
   "id": "5dbdd02d",
   "metadata": {},
   "outputs": [
    {
     "data": {
      "text/plain": [
       "array([-5.68301931e+04,  3.03928374e+04,  1.80340731e+02, -6.33120417e-01,\n",
       "        6.31027614e+04,  4.53038851e+05,  5.09962148e+04,  2.10087586e+04,\n",
       "        1.02714740e+02,  7.76259904e+01, -2.71891579e+03,  2.51767387e+00])"
      ]
     },
     "execution_count": 118,
     "metadata": {},
     "output_type": "execute_result"
    }
   ],
   "source": [
    "reg.coef_"
   ]
  },
  {
   "cell_type": "code",
   "execution_count": 119,
   "id": "50ef5aab",
   "metadata": {},
   "outputs": [
    {
     "data": {
      "text/plain": [
       "array(['bedrooms', 'bathrooms', 'sqft_living', 'sqft_lot', 'floors',\n",
       "       'waterfront', 'view', 'condition', 'sqft_above', 'sqft_basement',\n",
       "       'yr_built', 'yr_renovated'], dtype=object)"
      ]
     },
     "execution_count": 119,
     "metadata": {},
     "output_type": "execute_result"
    }
   ],
   "source": [
    "reg.feature_names_in_"
   ]
  },
  {
   "cell_type": "markdown",
   "id": "77369c79",
   "metadata": {},
   "source": [
    "## Input correlations"
   ]
  },
  {
   "cell_type": "code",
   "execution_count": 120,
   "id": "77a7e0f5",
   "metadata": {},
   "outputs": [],
   "source": [
    "corr = X.corr()"
   ]
  },
  {
   "cell_type": "code",
   "execution_count": 121,
   "id": "c31b1501",
   "metadata": {},
   "outputs": [
    {
     "data": {
      "text/html": [
       "<style type=\"text/css\">\n",
       "#T_c6b11_row0_col0, #T_c6b11_row1_col1, #T_c6b11_row2_col2, #T_c6b11_row3_col3, #T_c6b11_row4_col4, #T_c6b11_row5_col5, #T_c6b11_row6_col6, #T_c6b11_row7_col7, #T_c6b11_row8_col8, #T_c6b11_row9_col9, #T_c6b11_row10_col10, #T_c6b11_row11_col11 {\n",
       "  background-color: #b40426;\n",
       "  color: #f1f1f1;\n",
       "}\n",
       "#T_c6b11_row0_col1, #T_c6b11_row8_col4 {\n",
       "  background-color: #f5c4ac;\n",
       "  color: #000000;\n",
       "}\n",
       "#T_c6b11_row0_col2 {\n",
       "  background-color: #f5c0a7;\n",
       "  color: #000000;\n",
       "}\n",
       "#T_c6b11_row0_col3, #T_c6b11_row4_col6, #T_c6b11_row4_col7 {\n",
       "  background-color: #5572df;\n",
       "  color: #f1f1f1;\n",
       "}\n",
       "#T_c6b11_row0_col4, #T_c6b11_row2_col6, #T_c6b11_row6_col1 {\n",
       "  background-color: #b1cbfc;\n",
       "  color: #000000;\n",
       "}\n",
       "#T_c6b11_row0_col5, #T_c6b11_row7_col3, #T_c6b11_row7_col5 {\n",
       "  background-color: #4055c8;\n",
       "  color: #f1f1f1;\n",
       "}\n",
       "#T_c6b11_row0_col6 {\n",
       "  background-color: #6f92f3;\n",
       "  color: #f1f1f1;\n",
       "}\n",
       "#T_c6b11_row0_col7 {\n",
       "  background-color: #9fbfff;\n",
       "  color: #000000;\n",
       "}\n",
       "#T_c6b11_row0_col8 {\n",
       "  background-color: #ecd3c5;\n",
       "  color: #000000;\n",
       "}\n",
       "#T_c6b11_row0_col9 {\n",
       "  background-color: #d5dbe5;\n",
       "  color: #000000;\n",
       "}\n",
       "#T_c6b11_row0_col10 {\n",
       "  background-color: #bcd2f7;\n",
       "  color: #000000;\n",
       "}\n",
       "#T_c6b11_row0_col11 {\n",
       "  background-color: #7a9df8;\n",
       "  color: #f1f1f1;\n",
       "}\n",
       "#T_c6b11_row1_col0 {\n",
       "  background-color: #edd1c2;\n",
       "  color: #000000;\n",
       "}\n",
       "#T_c6b11_row1_col2 {\n",
       "  background-color: #f08a6c;\n",
       "  color: #f1f1f1;\n",
       "}\n",
       "#T_c6b11_row1_col3 {\n",
       "  background-color: #6282ea;\n",
       "  color: #f1f1f1;\n",
       "}\n",
       "#T_c6b11_row1_col4, #T_c6b11_row4_col8 {\n",
       "  background-color: #f1ccb8;\n",
       "  color: #000000;\n",
       "}\n",
       "#T_c6b11_row1_col5, #T_c6b11_row6_col3 {\n",
       "  background-color: #5875e1;\n",
       "  color: #f1f1f1;\n",
       "}\n",
       "#T_c6b11_row1_col6, #T_c6b11_row6_col11 {\n",
       "  background-color: #90b2fe;\n",
       "  color: #000000;\n",
       "}\n",
       "#T_c6b11_row1_col7 {\n",
       "  background-color: #7b9ff9;\n",
       "  color: #f1f1f1;\n",
       "}\n",
       "#T_c6b11_row1_col8 {\n",
       "  background-color: #f59f80;\n",
       "  color: #000000;\n",
       "}\n",
       "#T_c6b11_row1_col9 {\n",
       "  background-color: #ccd9ed;\n",
       "  color: #000000;\n",
       "}\n",
       "#T_c6b11_row1_col10 {\n",
       "  background-color: #f3c7b1;\n",
       "  color: #000000;\n",
       "}\n",
       "#T_c6b11_row1_col11, #T_c6b11_row7_col0, #T_c6b11_row7_col1 {\n",
       "  background-color: #536edd;\n",
       "  color: #f1f1f1;\n",
       "}\n",
       "#T_c6b11_row2_col0, #T_c6b11_row4_col10 {\n",
       "  background-color: #f4c6af;\n",
       "  color: #000000;\n",
       "}\n",
       "#T_c6b11_row2_col1 {\n",
       "  background-color: #ed8366;\n",
       "  color: #f1f1f1;\n",
       "}\n",
       "#T_c6b11_row2_col3 {\n",
       "  background-color: #85a8fc;\n",
       "  color: #f1f1f1;\n",
       "}\n",
       "#T_c6b11_row2_col4 {\n",
       "  background-color: #d9dce1;\n",
       "  color: #000000;\n",
       "}\n",
       "#T_c6b11_row2_col5 {\n",
       "  background-color: #6687ed;\n",
       "  color: #f1f1f1;\n",
       "}\n",
       "#T_c6b11_row2_col7, #T_c6b11_row5_col1, #T_c6b11_row6_col4, #T_c6b11_row6_col10 {\n",
       "  background-color: #89acfd;\n",
       "  color: #000000;\n",
       "}\n",
       "#T_c6b11_row2_col8 {\n",
       "  background-color: #d75445;\n",
       "  color: #f1f1f1;\n",
       "}\n",
       "#T_c6b11_row2_col9, #T_c6b11_row10_col1 {\n",
       "  background-color: #ebd3c6;\n",
       "  color: #000000;\n",
       "}\n",
       "#T_c6b11_row2_col10 {\n",
       "  background-color: #dadce0;\n",
       "  color: #000000;\n",
       "}\n",
       "#T_c6b11_row2_col11 {\n",
       "  background-color: #6a8bef;\n",
       "  color: #f1f1f1;\n",
       "}\n",
       "#T_c6b11_row3_col0, #T_c6b11_row8_col11 {\n",
       "  background-color: #6180e9;\n",
       "  color: #f1f1f1;\n",
       "}\n",
       "#T_c6b11_row3_col1, #T_c6b11_row5_col10 {\n",
       "  background-color: #93b5fe;\n",
       "  color: #000000;\n",
       "}\n",
       "#T_c6b11_row3_col2, #T_c6b11_row6_col8 {\n",
       "  background-color: #9ebeff;\n",
       "  color: #000000;\n",
       "}\n",
       "#T_c6b11_row3_col4, #T_c6b11_row5_col8 {\n",
       "  background-color: #81a4fb;\n",
       "  color: #f1f1f1;\n",
       "}\n",
       "#T_c6b11_row3_col5, #T_c6b11_row5_col3 {\n",
       "  background-color: #465ecf;\n",
       "  color: #f1f1f1;\n",
       "}\n",
       "#T_c6b11_row3_col6 {\n",
       "  background-color: #6384eb;\n",
       "  color: #f1f1f1;\n",
       "}\n",
       "#T_c6b11_row3_col7, #T_c6b11_row5_col7 {\n",
       "  background-color: #9abbff;\n",
       "  color: #000000;\n",
       "}\n",
       "#T_c6b11_row3_col8 {\n",
       "  background-color: #aac7fd;\n",
       "  color: #000000;\n",
       "}\n",
       "#T_c6b11_row3_col9, #T_c6b11_row5_col4, #T_c6b11_row8_col3 {\n",
       "  background-color: #86a9fc;\n",
       "  color: #f1f1f1;\n",
       "}\n",
       "#T_c6b11_row3_col10 {\n",
       "  background-color: #a6c4fe;\n",
       "  color: #000000;\n",
       "}\n",
       "#T_c6b11_row3_col11, #T_c6b11_row4_col0, #T_c6b11_row8_col6 {\n",
       "  background-color: #84a7fc;\n",
       "  color: #f1f1f1;\n",
       "}\n",
       "#T_c6b11_row4_col1, #T_c6b11_row8_col10 {\n",
       "  background-color: #eed0c0;\n",
       "  color: #000000;\n",
       "}\n",
       "#T_c6b11_row4_col2 {\n",
       "  background-color: #c5d6f2;\n",
       "  color: #000000;\n",
       "}\n",
       "#T_c6b11_row4_col3 {\n",
       "  background-color: #4257c9;\n",
       "  color: #f1f1f1;\n",
       "}\n",
       "#T_c6b11_row4_col5 {\n",
       "  background-color: #485fd1;\n",
       "  color: #f1f1f1;\n",
       "}\n",
       "#T_c6b11_row4_col9, #T_c6b11_row7_col4, #T_c6b11_row7_col8, #T_c6b11_row7_col10, #T_c6b11_row10_col5, #T_c6b11_row10_col6, #T_c6b11_row10_col7, #T_c6b11_row10_col11, #T_c6b11_row11_col0, #T_c6b11_row11_col1, #T_c6b11_row11_col2, #T_c6b11_row11_col3 {\n",
       "  background-color: #3b4cc0;\n",
       "  color: #f1f1f1;\n",
       "}\n",
       "#T_c6b11_row4_col11 {\n",
       "  background-color: #4e68d8;\n",
       "  color: #f1f1f1;\n",
       "}\n",
       "#T_c6b11_row5_col0, #T_c6b11_row7_col2 {\n",
       "  background-color: #4a63d3;\n",
       "  color: #f1f1f1;\n",
       "}\n",
       "#T_c6b11_row5_col2 {\n",
       "  background-color: #80a3fa;\n",
       "  color: #f1f1f1;\n",
       "}\n",
       "#T_c6b11_row5_col6 {\n",
       "  background-color: #c0d4f5;\n",
       "  color: #000000;\n",
       "}\n",
       "#T_c6b11_row5_col9 {\n",
       "  background-color: #97b8ff;\n",
       "  color: #000000;\n",
       "}\n",
       "#T_c6b11_row5_col11 {\n",
       "  background-color: #8caffe;\n",
       "  color: #000000;\n",
       "}\n",
       "#T_c6b11_row6_col0 {\n",
       "  background-color: #6e90f2;\n",
       "  color: #f1f1f1;\n",
       "}\n",
       "#T_c6b11_row6_col2 {\n",
       "  background-color: #bbd1f8;\n",
       "  color: #000000;\n",
       "}\n",
       "#T_c6b11_row6_col5 {\n",
       "  background-color: #b9d0f9;\n",
       "  color: #000000;\n",
       "}\n",
       "#T_c6b11_row6_col7 {\n",
       "  background-color: #a9c6fd;\n",
       "  color: #000000;\n",
       "}\n",
       "#T_c6b11_row6_col9 {\n",
       "  background-color: #d2dbe8;\n",
       "  color: #000000;\n",
       "}\n",
       "#T_c6b11_row7_col6, #T_c6b11_row9_col5, #T_c6b11_row9_col8 {\n",
       "  background-color: #5f7fe8;\n",
       "  color: #f1f1f1;\n",
       "}\n",
       "#T_c6b11_row7_col9, #T_c6b11_row10_col2 {\n",
       "  background-color: #b5cdfa;\n",
       "  color: #000000;\n",
       "}\n",
       "#T_c6b11_row7_col11 {\n",
       "  background-color: #5a78e4;\n",
       "  color: #f1f1f1;\n",
       "}\n",
       "#T_c6b11_row8_col0 {\n",
       "  background-color: #e0dbd8;\n",
       "  color: #000000;\n",
       "}\n",
       "#T_c6b11_row8_col1 {\n",
       "  background-color: #f59c7d;\n",
       "  color: #000000;\n",
       "}\n",
       "#T_c6b11_row8_col2 {\n",
       "  background-color: #d95847;\n",
       "  color: #f1f1f1;\n",
       "}\n",
       "#T_c6b11_row8_col5 {\n",
       "  background-color: #5977e3;\n",
       "  color: #f1f1f1;\n",
       "}\n",
       "#T_c6b11_row8_col7 {\n",
       "  background-color: #6c8ff1;\n",
       "  color: #f1f1f1;\n",
       "}\n",
       "#T_c6b11_row8_col9 {\n",
       "  background-color: #7295f4;\n",
       "  color: #f1f1f1;\n",
       "}\n",
       "#T_c6b11_row9_col0 {\n",
       "  background-color: #b7cff9;\n",
       "  color: #000000;\n",
       "}\n",
       "#T_c6b11_row9_col1 {\n",
       "  background-color: #c7d7f0;\n",
       "  color: #000000;\n",
       "}\n",
       "#T_c6b11_row9_col2 {\n",
       "  background-color: #dedcdb;\n",
       "  color: #000000;\n",
       "}\n",
       "#T_c6b11_row9_col3, #T_c6b11_row11_col10 {\n",
       "  background-color: #4b64d5;\n",
       "  color: #f1f1f1;\n",
       "}\n",
       "#T_c6b11_row9_col4, #T_c6b11_row11_col8 {\n",
       "  background-color: #3e51c5;\n",
       "  color: #f1f1f1;\n",
       "}\n",
       "#T_c6b11_row9_col6 {\n",
       "  background-color: #b3cdfb;\n",
       "  color: #000000;\n",
       "}\n",
       "#T_c6b11_row9_col7 {\n",
       "  background-color: #c9d7f0;\n",
       "  color: #000000;\n",
       "}\n",
       "#T_c6b11_row9_col10 {\n",
       "  background-color: #7093f3;\n",
       "  color: #f1f1f1;\n",
       "}\n",
       "#T_c6b11_row9_col11 {\n",
       "  background-color: #96b7ff;\n",
       "  color: #000000;\n",
       "}\n",
       "#T_c6b11_row10_col0 {\n",
       "  background-color: #799cf8;\n",
       "  color: #f1f1f1;\n",
       "}\n",
       "#T_c6b11_row10_col3 {\n",
       "  background-color: #506bda;\n",
       "  color: #f1f1f1;\n",
       "}\n",
       "#T_c6b11_row10_col4 {\n",
       "  background-color: #efcebd;\n",
       "  color: #000000;\n",
       "}\n",
       "#T_c6b11_row10_col8 {\n",
       "  background-color: #dcdddd;\n",
       "  color: #000000;\n",
       "}\n",
       "#T_c6b11_row10_col9 {\n",
       "  background-color: #516ddb;\n",
       "  color: #f1f1f1;\n",
       "}\n",
       "#T_c6b11_row11_col4, #T_c6b11_row11_col5 {\n",
       "  background-color: #445acc;\n",
       "  color: #f1f1f1;\n",
       "}\n",
       "#T_c6b11_row11_col6 {\n",
       "  background-color: #5470de;\n",
       "  color: #f1f1f1;\n",
       "}\n",
       "#T_c6b11_row11_col7 {\n",
       "  background-color: #6b8df0;\n",
       "  color: #f1f1f1;\n",
       "}\n",
       "#T_c6b11_row11_col9 {\n",
       "  background-color: #88abfd;\n",
       "  color: #000000;\n",
       "}\n",
       "</style>\n",
       "<table id=\"T_c6b11\">\n",
       "  <thead>\n",
       "    <tr>\n",
       "      <th class=\"blank level0\" >&nbsp;</th>\n",
       "      <th id=\"T_c6b11_level0_col0\" class=\"col_heading level0 col0\" >bedrooms</th>\n",
       "      <th id=\"T_c6b11_level0_col1\" class=\"col_heading level0 col1\" >bathrooms</th>\n",
       "      <th id=\"T_c6b11_level0_col2\" class=\"col_heading level0 col2\" >sqft_living</th>\n",
       "      <th id=\"T_c6b11_level0_col3\" class=\"col_heading level0 col3\" >sqft_lot</th>\n",
       "      <th id=\"T_c6b11_level0_col4\" class=\"col_heading level0 col4\" >floors</th>\n",
       "      <th id=\"T_c6b11_level0_col5\" class=\"col_heading level0 col5\" >waterfront</th>\n",
       "      <th id=\"T_c6b11_level0_col6\" class=\"col_heading level0 col6\" >view</th>\n",
       "      <th id=\"T_c6b11_level0_col7\" class=\"col_heading level0 col7\" >condition</th>\n",
       "      <th id=\"T_c6b11_level0_col8\" class=\"col_heading level0 col8\" >sqft_above</th>\n",
       "      <th id=\"T_c6b11_level0_col9\" class=\"col_heading level0 col9\" >sqft_basement</th>\n",
       "      <th id=\"T_c6b11_level0_col10\" class=\"col_heading level0 col10\" >yr_built</th>\n",
       "      <th id=\"T_c6b11_level0_col11\" class=\"col_heading level0 col11\" >yr_renovated</th>\n",
       "    </tr>\n",
       "  </thead>\n",
       "  <tbody>\n",
       "    <tr>\n",
       "      <th id=\"T_c6b11_level0_row0\" class=\"row_heading level0 row0\" >bedrooms</th>\n",
       "      <td id=\"T_c6b11_row0_col0\" class=\"data row0 col0\" >1.000000</td>\n",
       "      <td id=\"T_c6b11_row0_col1\" class=\"data row0 col1\" >0.545978</td>\n",
       "      <td id=\"T_c6b11_row0_col2\" class=\"data row0 col2\" >0.594883</td>\n",
       "      <td id=\"T_c6b11_row0_col3\" class=\"data row0 col3\" >0.068795</td>\n",
       "      <td id=\"T_c6b11_row0_col4\" class=\"data row0 col4\" >0.177755</td>\n",
       "      <td id=\"T_c6b11_row0_col5\" class=\"data row0 col5\" >-0.003499</td>\n",
       "      <td id=\"T_c6b11_row0_col6\" class=\"data row0 col6\" >0.110976</td>\n",
       "      <td id=\"T_c6b11_row0_col7\" class=\"data row0 col7\" >0.025098</td>\n",
       "      <td id=\"T_c6b11_row0_col8\" class=\"data row0 col8\" >0.484658</td>\n",
       "      <td id=\"T_c6b11_row0_col9\" class=\"data row0 col9\" >0.334217</td>\n",
       "      <td id=\"T_c6b11_row0_col10\" class=\"data row0 col10\" >0.142500</td>\n",
       "      <td id=\"T_c6b11_row0_col11\" class=\"data row0 col11\" >-0.061061</td>\n",
       "    </tr>\n",
       "    <tr>\n",
       "      <th id=\"T_c6b11_level0_row1\" class=\"row_heading level0 row1\" >bathrooms</th>\n",
       "      <td id=\"T_c6b11_row1_col0\" class=\"data row1 col0\" >0.545978</td>\n",
       "      <td id=\"T_c6b11_row1_col1\" class=\"data row1 col1\" >1.000000</td>\n",
       "      <td id=\"T_c6b11_row1_col2\" class=\"data row1 col2\" >0.761206</td>\n",
       "      <td id=\"T_c6b11_row1_col3\" class=\"data row1 col3\" >0.107841</td>\n",
       "      <td id=\"T_c6b11_row1_col4\" class=\"data row1 col4\" >0.486583</td>\n",
       "      <td id=\"T_c6b11_row1_col5\" class=\"data row1 col5\" >0.076238</td>\n",
       "      <td id=\"T_c6b11_row1_col6\" class=\"data row1 col6\" >0.211985</td>\n",
       "      <td id=\"T_c6b11_row1_col7\" class=\"data row1 col7\" >-0.119913</td>\n",
       "      <td id=\"T_c6b11_row1_col8\" class=\"data row1 col8\" >0.689982</td>\n",
       "      <td id=\"T_c6b11_row1_col9\" class=\"data row1 col9\" >0.297962</td>\n",
       "      <td id=\"T_c6b11_row1_col10\" class=\"data row1 col10\" >0.463626</td>\n",
       "      <td id=\"T_c6b11_row1_col11\" class=\"data row1 col11\" >-0.216094</td>\n",
       "    </tr>\n",
       "    <tr>\n",
       "      <th id=\"T_c6b11_level0_row2\" class=\"row_heading level0 row2\" >sqft_living</th>\n",
       "      <td id=\"T_c6b11_row2_col0\" class=\"data row2 col0\" >0.594883</td>\n",
       "      <td id=\"T_c6b11_row2_col1\" class=\"data row2 col1\" >0.761206</td>\n",
       "      <td id=\"T_c6b11_row2_col2\" class=\"data row2 col2\" >1.000000</td>\n",
       "      <td id=\"T_c6b11_row2_col3\" class=\"data row2 col3\" >0.210521</td>\n",
       "      <td id=\"T_c6b11_row2_col4\" class=\"data row2 col4\" >0.344760</td>\n",
       "      <td id=\"T_c6b11_row2_col5\" class=\"data row2 col5\" >0.117611</td>\n",
       "      <td id=\"T_c6b11_row2_col6\" class=\"data row2 col6\" >0.310986</td>\n",
       "      <td id=\"T_c6b11_row2_col7\" class=\"data row2 col7\" >-0.062657</td>\n",
       "      <td id=\"T_c6b11_row2_col8\" class=\"data row2 col8\" >0.876443</td>\n",
       "      <td id=\"T_c6b11_row2_col9\" class=\"data row2 col9\" >0.447146</td>\n",
       "      <td id=\"T_c6b11_row2_col10\" class=\"data row2 col10\" >0.287990</td>\n",
       "      <td id=\"T_c6b11_row2_col11\" class=\"data row2 col11\" >-0.123052</td>\n",
       "    </tr>\n",
       "    <tr>\n",
       "      <th id=\"T_c6b11_level0_row3\" class=\"row_heading level0 row3\" >sqft_lot</th>\n",
       "      <td id=\"T_c6b11_row3_col0\" class=\"data row3 col0\" >0.068795</td>\n",
       "      <td id=\"T_c6b11_row3_col1\" class=\"data row3 col1\" >0.107841</td>\n",
       "      <td id=\"T_c6b11_row3_col2\" class=\"data row3 col2\" >0.210521</td>\n",
       "      <td id=\"T_c6b11_row3_col3\" class=\"data row3 col3\" >1.000000</td>\n",
       "      <td id=\"T_c6b11_row3_col4\" class=\"data row3 col4\" >0.003690</td>\n",
       "      <td id=\"T_c6b11_row3_col5\" class=\"data row3 col5\" >0.017236</td>\n",
       "      <td id=\"T_c6b11_row3_col6\" class=\"data row3 col6\" >0.073889</td>\n",
       "      <td id=\"T_c6b11_row3_col7\" class=\"data row3 col7\" >0.000579</td>\n",
       "      <td id=\"T_c6b11_row3_col8\" class=\"data row3 col8\" >0.216433</td>\n",
       "      <td id=\"T_c6b11_row3_col9\" class=\"data row3 col9\" >0.034832</td>\n",
       "      <td id=\"T_c6b11_row3_col10\" class=\"data row3 col10\" >0.050731</td>\n",
       "      <td id=\"T_c6b11_row3_col11\" class=\"data row3 col11\" >-0.022746</td>\n",
       "    </tr>\n",
       "    <tr>\n",
       "      <th id=\"T_c6b11_level0_row4\" class=\"row_heading level0 row4\" >floors</th>\n",
       "      <td id=\"T_c6b11_row4_col0\" class=\"data row4 col0\" >0.177755</td>\n",
       "      <td id=\"T_c6b11_row4_col1\" class=\"data row4 col1\" >0.486583</td>\n",
       "      <td id=\"T_c6b11_row4_col2\" class=\"data row4 col2\" >0.344760</td>\n",
       "      <td id=\"T_c6b11_row4_col3\" class=\"data row4 col3\" >0.003690</td>\n",
       "      <td id=\"T_c6b11_row4_col4\" class=\"data row4 col4\" >1.000000</td>\n",
       "      <td id=\"T_c6b11_row4_col5\" class=\"data row4 col5\" >0.021993</td>\n",
       "      <td id=\"T_c6b11_row4_col6\" class=\"data row4 col6\" >0.031090</td>\n",
       "      <td id=\"T_c6b11_row4_col7\" class=\"data row4 col7\" >-0.275071</td>\n",
       "      <td id=\"T_c6b11_row4_col8\" class=\"data row4 col8\" >0.522733</td>\n",
       "      <td id=\"T_c6b11_row4_col9\" class=\"data row4 col9\" >-0.255580</td>\n",
       "      <td id=\"T_c6b11_row4_col10\" class=\"data row4 col10\" >0.467656</td>\n",
       "      <td id=\"T_c6b11_row4_col11\" class=\"data row4 col11\" >-0.234016</td>\n",
       "    </tr>\n",
       "    <tr>\n",
       "      <th id=\"T_c6b11_level0_row5\" class=\"row_heading level0 row5\" >waterfront</th>\n",
       "      <td id=\"T_c6b11_row5_col0\" class=\"data row5 col0\" >-0.003499</td>\n",
       "      <td id=\"T_c6b11_row5_col1\" class=\"data row5 col1\" >0.076238</td>\n",
       "      <td id=\"T_c6b11_row5_col2\" class=\"data row5 col2\" >0.117611</td>\n",
       "      <td id=\"T_c6b11_row5_col3\" class=\"data row5 col3\" >0.017236</td>\n",
       "      <td id=\"T_c6b11_row5_col4\" class=\"data row5 col4\" >0.021993</td>\n",
       "      <td id=\"T_c6b11_row5_col5\" class=\"data row5 col5\" >1.000000</td>\n",
       "      <td id=\"T_c6b11_row5_col6\" class=\"data row5 col6\" >0.360931</td>\n",
       "      <td id=\"T_c6b11_row5_col7\" class=\"data row5 col7\" >0.000355</td>\n",
       "      <td id=\"T_c6b11_row5_col8\" class=\"data row5 col8\" >0.078897</td>\n",
       "      <td id=\"T_c6b11_row5_col9\" class=\"data row5 col9\" >0.097512</td>\n",
       "      <td id=\"T_c6b11_row5_col10\" class=\"data row5 col10\" >-0.023561</td>\n",
       "      <td id=\"T_c6b11_row5_col11\" class=\"data row5 col11\" >0.008634</td>\n",
       "    </tr>\n",
       "    <tr>\n",
       "      <th id=\"T_c6b11_level0_row6\" class=\"row_heading level0 row6\" >view</th>\n",
       "      <td id=\"T_c6b11_row6_col0\" class=\"data row6 col0\" >0.110976</td>\n",
       "      <td id=\"T_c6b11_row6_col1\" class=\"data row6 col1\" >0.211985</td>\n",
       "      <td id=\"T_c6b11_row6_col2\" class=\"data row6 col2\" >0.310986</td>\n",
       "      <td id=\"T_c6b11_row6_col3\" class=\"data row6 col3\" >0.073889</td>\n",
       "      <td id=\"T_c6b11_row6_col4\" class=\"data row6 col4\" >0.031090</td>\n",
       "      <td id=\"T_c6b11_row6_col5\" class=\"data row6 col5\" >0.360931</td>\n",
       "      <td id=\"T_c6b11_row6_col6\" class=\"data row6 col6\" >1.000000</td>\n",
       "      <td id=\"T_c6b11_row6_col7\" class=\"data row6 col7\" >0.063096</td>\n",
       "      <td id=\"T_c6b11_row6_col8\" class=\"data row6 col8\" >0.174271</td>\n",
       "      <td id=\"T_c6b11_row6_col9\" class=\"data row6 col9\" >0.321644</td>\n",
       "      <td id=\"T_c6b11_row6_col10\" class=\"data row6 col10\" >-0.064457</td>\n",
       "      <td id=\"T_c6b11_row6_col11\" class=\"data row6 col11\" >0.022999</td>\n",
       "    </tr>\n",
       "    <tr>\n",
       "      <th id=\"T_c6b11_level0_row7\" class=\"row_heading level0 row7\" >condition</th>\n",
       "      <td id=\"T_c6b11_row7_col0\" class=\"data row7 col0\" >0.025098</td>\n",
       "      <td id=\"T_c6b11_row7_col1\" class=\"data row7 col1\" >-0.119913</td>\n",
       "      <td id=\"T_c6b11_row7_col2\" class=\"data row7 col2\" >-0.062657</td>\n",
       "      <td id=\"T_c6b11_row7_col3\" class=\"data row7 col3\" >0.000579</td>\n",
       "      <td id=\"T_c6b11_row7_col4\" class=\"data row7 col4\" >-0.275071</td>\n",
       "      <td id=\"T_c6b11_row7_col5\" class=\"data row7 col5\" >0.000355</td>\n",
       "      <td id=\"T_c6b11_row7_col6\" class=\"data row7 col6\" >0.063096</td>\n",
       "      <td id=\"T_c6b11_row7_col7\" class=\"data row7 col7\" >1.000000</td>\n",
       "      <td id=\"T_c6b11_row7_col8\" class=\"data row7 col8\" >-0.178145</td>\n",
       "      <td id=\"T_c6b11_row7_col9\" class=\"data row7 col9\" >0.200898</td>\n",
       "      <td id=\"T_c6b11_row7_col10\" class=\"data row7 col10\" >-0.399977</td>\n",
       "      <td id=\"T_c6b11_row7_col11\" class=\"data row7 col11\" >-0.186563</td>\n",
       "    </tr>\n",
       "    <tr>\n",
       "      <th id=\"T_c6b11_level0_row8\" class=\"row_heading level0 row8\" >sqft_above</th>\n",
       "      <td id=\"T_c6b11_row8_col0\" class=\"data row8 col0\" >0.484658</td>\n",
       "      <td id=\"T_c6b11_row8_col1\" class=\"data row8 col1\" >0.689982</td>\n",
       "      <td id=\"T_c6b11_row8_col2\" class=\"data row8 col2\" >0.876443</td>\n",
       "      <td id=\"T_c6b11_row8_col3\" class=\"data row8 col3\" >0.216433</td>\n",
       "      <td id=\"T_c6b11_row8_col4\" class=\"data row8 col4\" >0.522733</td>\n",
       "      <td id=\"T_c6b11_row8_col5\" class=\"data row8 col5\" >0.078897</td>\n",
       "      <td id=\"T_c6b11_row8_col6\" class=\"data row8 col6\" >0.174271</td>\n",
       "      <td id=\"T_c6b11_row8_col7\" class=\"data row8 col7\" >-0.178145</td>\n",
       "      <td id=\"T_c6b11_row8_col8\" class=\"data row8 col8\" >1.000000</td>\n",
       "      <td id=\"T_c6b11_row8_col9\" class=\"data row8 col9\" >-0.038790</td>\n",
       "      <td id=\"T_c6b11_row8_col10\" class=\"data row8 col10\" >0.408680</td>\n",
       "      <td id=\"T_c6b11_row8_col11\" class=\"data row8 col11\" >-0.160525</td>\n",
       "    </tr>\n",
       "    <tr>\n",
       "      <th id=\"T_c6b11_level0_row9\" class=\"row_heading level0 row9\" >sqft_basement</th>\n",
       "      <td id=\"T_c6b11_row9_col0\" class=\"data row9 col0\" >0.334217</td>\n",
       "      <td id=\"T_c6b11_row9_col1\" class=\"data row9 col1\" >0.297962</td>\n",
       "      <td id=\"T_c6b11_row9_col2\" class=\"data row9 col2\" >0.447146</td>\n",
       "      <td id=\"T_c6b11_row9_col3\" class=\"data row9 col3\" >0.034832</td>\n",
       "      <td id=\"T_c6b11_row9_col4\" class=\"data row9 col4\" >-0.255580</td>\n",
       "      <td id=\"T_c6b11_row9_col5\" class=\"data row9 col5\" >0.097512</td>\n",
       "      <td id=\"T_c6b11_row9_col6\" class=\"data row9 col6\" >0.321644</td>\n",
       "      <td id=\"T_c6b11_row9_col7\" class=\"data row9 col7\" >0.200898</td>\n",
       "      <td id=\"T_c6b11_row9_col8\" class=\"data row9 col8\" >-0.038790</td>\n",
       "      <td id=\"T_c6b11_row9_col9\" class=\"data row9 col9\" >1.000000</td>\n",
       "      <td id=\"T_c6b11_row9_col10\" class=\"data row9 col10\" >-0.161524</td>\n",
       "      <td id=\"T_c6b11_row9_col11\" class=\"data row9 col11\" >0.042832</td>\n",
       "    </tr>\n",
       "    <tr>\n",
       "      <th id=\"T_c6b11_level0_row10\" class=\"row_heading level0 row10\" >yr_built</th>\n",
       "      <td id=\"T_c6b11_row10_col0\" class=\"data row10 col0\" >0.142500</td>\n",
       "      <td id=\"T_c6b11_row10_col1\" class=\"data row10 col1\" >0.463626</td>\n",
       "      <td id=\"T_c6b11_row10_col2\" class=\"data row10 col2\" >0.287990</td>\n",
       "      <td id=\"T_c6b11_row10_col3\" class=\"data row10 col3\" >0.050731</td>\n",
       "      <td id=\"T_c6b11_row10_col4\" class=\"data row10 col4\" >0.467656</td>\n",
       "      <td id=\"T_c6b11_row10_col5\" class=\"data row10 col5\" >-0.023561</td>\n",
       "      <td id=\"T_c6b11_row10_col6\" class=\"data row10 col6\" >-0.064457</td>\n",
       "      <td id=\"T_c6b11_row10_col7\" class=\"data row10 col7\" >-0.399977</td>\n",
       "      <td id=\"T_c6b11_row10_col8\" class=\"data row10 col8\" >0.408680</td>\n",
       "      <td id=\"T_c6b11_row10_col9\" class=\"data row10 col9\" >-0.161524</td>\n",
       "      <td id=\"T_c6b11_row10_col10\" class=\"data row10 col10\" >1.000000</td>\n",
       "      <td id=\"T_c6b11_row10_col11\" class=\"data row10 col11\" >-0.321185</td>\n",
       "    </tr>\n",
       "    <tr>\n",
       "      <th id=\"T_c6b11_level0_row11\" class=\"row_heading level0 row11\" >yr_renovated</th>\n",
       "      <td id=\"T_c6b11_row11_col0\" class=\"data row11 col0\" >-0.061061</td>\n",
       "      <td id=\"T_c6b11_row11_col1\" class=\"data row11 col1\" >-0.216094</td>\n",
       "      <td id=\"T_c6b11_row11_col2\" class=\"data row11 col2\" >-0.123052</td>\n",
       "      <td id=\"T_c6b11_row11_col3\" class=\"data row11 col3\" >-0.022746</td>\n",
       "      <td id=\"T_c6b11_row11_col4\" class=\"data row11 col4\" >-0.234016</td>\n",
       "      <td id=\"T_c6b11_row11_col5\" class=\"data row11 col5\" >0.008634</td>\n",
       "      <td id=\"T_c6b11_row11_col6\" class=\"data row11 col6\" >0.022999</td>\n",
       "      <td id=\"T_c6b11_row11_col7\" class=\"data row11 col7\" >-0.186563</td>\n",
       "      <td id=\"T_c6b11_row11_col8\" class=\"data row11 col8\" >-0.160525</td>\n",
       "      <td id=\"T_c6b11_row11_col9\" class=\"data row11 col9\" >0.042832</td>\n",
       "      <td id=\"T_c6b11_row11_col10\" class=\"data row11 col10\" >-0.321185</td>\n",
       "      <td id=\"T_c6b11_row11_col11\" class=\"data row11 col11\" >1.000000</td>\n",
       "    </tr>\n",
       "  </tbody>\n",
       "</table>\n"
      ],
      "text/plain": [
       "<pandas.io.formats.style.Styler at 0x7f39bc497fa0>"
      ]
     },
     "execution_count": 121,
     "metadata": {},
     "output_type": "execute_result"
    }
   ],
   "source": [
    "corr.style.background_gradient(cmap='coolwarm')"
   ]
  },
  {
   "cell_type": "code",
   "execution_count": null,
   "id": "cc167c29",
   "metadata": {},
   "outputs": [],
   "source": []
  }
 ],
 "metadata": {
  "kernelspec": {
   "display_name": "ml--dl-env",
   "language": "python",
   "name": "ml--dl-env"
  },
  "language_info": {
   "codemirror_mode": {
    "name": "ipython",
    "version": 3
   },
   "file_extension": ".py",
   "mimetype": "text/x-python",
   "name": "python",
   "nbconvert_exporter": "python",
   "pygments_lexer": "ipython3",
   "version": "3.8.16"
  }
 },
 "nbformat": 4,
 "nbformat_minor": 5
}
